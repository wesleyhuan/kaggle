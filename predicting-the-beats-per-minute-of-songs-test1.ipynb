{
 "cells": [
  {
   "cell_type": "markdown",
   "id": "f89bcf6c",
   "metadata": {
    "papermill": {
     "duration": 0.00691,
     "end_time": "2025-09-21T02:46:32.998194",
     "exception": false,
     "start_time": "2025-09-21T02:46:32.991284",
     "status": "completed"
    },
    "tags": []
   },
   "source": [
    "# Load basic library"
   ]
  },
  {
   "cell_type": "code",
   "execution_count": 1,
   "id": "3ab50499",
   "metadata": {
    "_cell_guid": "b1076dfc-b9ad-4769-8c92-a6c4dae69d19",
    "_uuid": "8f2839f25d086af736a60e9eeb907d3b93b6e0e5",
    "execution": {
     "iopub.execute_input": "2025-09-21T02:46:33.011034Z",
     "iopub.status.busy": "2025-09-21T02:46:33.010686Z",
     "iopub.status.idle": "2025-09-21T02:46:37.807652Z",
     "shell.execute_reply": "2025-09-21T02:46:37.806676Z"
    },
    "papermill": {
     "duration": 4.805694,
     "end_time": "2025-09-21T02:46:37.809735",
     "exception": false,
     "start_time": "2025-09-21T02:46:33.004041",
     "status": "completed"
    },
    "tags": []
   },
   "outputs": [],
   "source": [
    "# Import standard data manipulation and visualization libraries\n",
    "import numpy as np\n",
    "import pandas as pd\n",
    "import seaborn as sns\n",
    "import optuna\n",
    "from scipy.stats import skew\n",
    "import warnings\n",
    "from sklearn.model_selection import KFold\n",
    "from sklearn.preprocessing import RobustScaler\n",
    "from sklearn.ensemble import RandomForestRegressor\n",
    "from sklearn.preprocessing import PolynomialFeatures\n",
    "from sklearn.metrics import mean_squared_error\n",
    "from sklearn.metrics import mean_absolute_error\n",
    "from sklearn.model_selection import train_test_split"
   ]
  },
  {
   "cell_type": "code",
   "execution_count": 2,
   "id": "bb5a225b",
   "metadata": {
    "execution": {
     "iopub.execute_input": "2025-09-21T02:46:37.822379Z",
     "iopub.status.busy": "2025-09-21T02:46:37.821922Z",
     "iopub.status.idle": "2025-09-21T02:46:43.852053Z",
     "shell.execute_reply": "2025-09-21T02:46:43.850828Z"
    },
    "papermill": {
     "duration": 6.038407,
     "end_time": "2025-09-21T02:46:43.853807",
     "exception": false,
     "start_time": "2025-09-21T02:46:37.815400",
     "status": "completed"
    },
    "tags": []
   },
   "outputs": [],
   "source": [
    "# Import gradient boosting libraries\n",
    "import lightgbm as lgb\n",
    "import xgboost as xgb\n",
    "import catboost as catb"
   ]
  },
  {
   "cell_type": "code",
   "execution_count": 3,
   "id": "bb7bf44e",
   "metadata": {
    "execution": {
     "iopub.execute_input": "2025-09-21T02:46:43.866330Z",
     "iopub.status.busy": "2025-09-21T02:46:43.865702Z",
     "iopub.status.idle": "2025-09-21T02:46:43.872482Z",
     "shell.execute_reply": "2025-09-21T02:46:43.871584Z"
    },
    "papermill": {
     "duration": 0.014693,
     "end_time": "2025-09-21T02:46:43.874040",
     "exception": false,
     "start_time": "2025-09-21T02:46:43.859347",
     "status": "completed"
    },
    "tags": []
   },
   "outputs": [
    {
     "name": "stderr",
     "output_type": "stream",
     "text": [
      "/tmp/ipykernel_13/3251733192.py:4: MatplotlibDeprecationWarning: The seaborn styles shipped by Matplotlib are deprecated since 3.6, as they no longer correspond to the styles shipped by seaborn. However, they will remain available as 'seaborn-v0_8-<style>'. Alternatively, directly use the seaborn API instead.\n",
      "  plt.style.use('seaborn-whitegrid')\n"
     ]
    }
   ],
   "source": [
    "# Setup plotting\n",
    "import matplotlib.pyplot as plt\n",
    "\n",
    "plt.style.use('seaborn-whitegrid')\n",
    "# Set Matplotlib defaults\n",
    "plt.rc('figure', autolayout=True)\n",
    "plt.rc('axes', labelweight='bold', labelsize='large',\n",
    "       titleweight='bold', titlesize=18, titlepad=10)"
   ]
  },
  {
   "cell_type": "markdown",
   "id": "8b9aec6a",
   "metadata": {
    "papermill": {
     "duration": 0.005562,
     "end_time": "2025-09-21T02:46:43.885704",
     "exception": false,
     "start_time": "2025-09-21T02:46:43.880142",
     "status": "completed"
    },
    "tags": []
   },
   "source": [
    "Set random seed to have reproducibile result"
   ]
  },
  {
   "cell_type": "code",
   "execution_count": 4,
   "id": "8e268669",
   "metadata": {
    "execution": {
     "iopub.execute_input": "2025-09-21T02:46:43.898184Z",
     "iopub.status.busy": "2025-09-21T02:46:43.897847Z",
     "iopub.status.idle": "2025-09-21T02:46:43.902518Z",
     "shell.execute_reply": "2025-09-21T02:46:43.901747Z"
    },
    "papermill": {
     "duration": 0.013158,
     "end_time": "2025-09-21T02:46:43.904457",
     "exception": false,
     "start_time": "2025-09-21T02:46:43.891299",
     "status": "completed"
    },
    "tags": []
   },
   "outputs": [],
   "source": [
    "# For reproducibility\n",
    "RANDOM_SEED = 42\n",
    "np.random.seed(RANDOM_SEED)"
   ]
  },
  {
   "cell_type": "markdown",
   "id": "4e45ea42",
   "metadata": {
    "papermill": {
     "duration": 0.005897,
     "end_time": "2025-09-21T02:46:43.915959",
     "exception": false,
     "start_time": "2025-09-21T02:46:43.910062",
     "status": "completed"
    },
    "tags": []
   },
   "source": [
    "Now we can load our data.\n",
    "And we can check some basic information about our data"
   ]
  },
  {
   "cell_type": "code",
   "execution_count": 5,
   "id": "11f35cea",
   "metadata": {
    "execution": {
     "iopub.execute_input": "2025-09-21T02:46:43.928380Z",
     "iopub.status.busy": "2025-09-21T02:46:43.927692Z",
     "iopub.status.idle": "2025-09-21T02:46:45.710415Z",
     "shell.execute_reply": "2025-09-21T02:46:45.709500Z"
    },
    "papermill": {
     "duration": 1.79098,
     "end_time": "2025-09-21T02:46:45.712333",
     "exception": false,
     "start_time": "2025-09-21T02:46:43.921353",
     "status": "completed"
    },
    "tags": []
   },
   "outputs": [],
   "source": [
    "# Load datasets\n",
    "train = pd.read_csv('/kaggle/input/playground-series-s5e9/train.csv')  \n",
    "test = pd.read_csv('/kaggle/input/playground-series-s5e9/test.csv')    \n",
    "sample_submission = pd.read_csv('/kaggle/input/playground-series-s5e9/sample_submission.csv')  "
   ]
  },
  {
   "cell_type": "code",
   "execution_count": 6,
   "id": "c9d2d9cf",
   "metadata": {
    "execution": {
     "iopub.execute_input": "2025-09-21T02:46:45.725210Z",
     "iopub.status.busy": "2025-09-21T02:46:45.724626Z",
     "iopub.status.idle": "2025-09-21T02:46:45.731025Z",
     "shell.execute_reply": "2025-09-21T02:46:45.729917Z"
    },
    "papermill": {
     "duration": 0.014388,
     "end_time": "2025-09-21T02:46:45.732484",
     "exception": false,
     "start_time": "2025-09-21T02:46:45.718096",
     "status": "completed"
    },
    "tags": []
   },
   "outputs": [
    {
     "name": "stdout",
     "output_type": "stream",
     "text": [
      "Train data shape\n",
      "(524164, 11)\n",
      "Test data shape\n",
      "(174722, 10)\n",
      "sample_submission data shape\n",
      "(174722, 2)\n"
     ]
    }
   ],
   "source": [
    "# Display information about the datasets\n",
    "print(\"Train data shape\")\n",
    "print(train.shape)\n",
    "print(\"Test data shape\")\n",
    "print(test.shape)\n",
    "print(\"sample_submission data shape\")\n",
    "print(sample_submission.shape)"
   ]
  },
  {
   "cell_type": "code",
   "execution_count": 7,
   "id": "7be7c924",
   "metadata": {
    "execution": {
     "iopub.execute_input": "2025-09-21T02:46:45.745017Z",
     "iopub.status.busy": "2025-09-21T02:46:45.744714Z",
     "iopub.status.idle": "2025-09-21T02:46:45.758971Z",
     "shell.execute_reply": "2025-09-21T02:46:45.757606Z"
    },
    "papermill": {
     "duration": 0.02233,
     "end_time": "2025-09-21T02:46:45.760669",
     "exception": false,
     "start_time": "2025-09-21T02:46:45.738339",
     "status": "completed"
    },
    "tags": []
   },
   "outputs": [
    {
     "name": "stdout",
     "output_type": "stream",
     "text": [
      "       id  BeatsPerMinute\n",
      "0  524164         119.035\n",
      "1  524165         119.035\n",
      "2  524166         119.035\n",
      "3  524167         119.035\n",
      "4  524168         119.035\n"
     ]
    }
   ],
   "source": [
    "# Check the submission format\n",
    "print(sample_submission.head())"
   ]
  },
  {
   "cell_type": "code",
   "execution_count": 8,
   "id": "f4280277",
   "metadata": {
    "execution": {
     "iopub.execute_input": "2025-09-21T02:46:45.773389Z",
     "iopub.status.busy": "2025-09-21T02:46:45.773066Z",
     "iopub.status.idle": "2025-09-21T02:46:45.810659Z",
     "shell.execute_reply": "2025-09-21T02:46:45.809609Z"
    },
    "papermill": {
     "duration": 0.046172,
     "end_time": "2025-09-21T02:46:45.812642",
     "exception": false,
     "start_time": "2025-09-21T02:46:45.766470",
     "status": "completed"
    },
    "tags": []
   },
   "outputs": [
    {
     "name": "stdout",
     "output_type": "stream",
     "text": [
      "train data null data sum\n",
      "id                           0\n",
      "RhythmScore                  0\n",
      "AudioLoudness                0\n",
      "VocalContent                 0\n",
      "AcousticQuality              0\n",
      "InstrumentalScore            0\n",
      "LivePerformanceLikelihood    0\n",
      "MoodScore                    0\n",
      "TrackDurationMs              0\n",
      "Energy                       0\n",
      "BeatsPerMinute               0\n",
      "dtype: int64\n",
      "test data null data sum\n",
      "id                           0\n",
      "RhythmScore                  0\n",
      "AudioLoudness                0\n",
      "VocalContent                 0\n",
      "AcousticQuality              0\n",
      "InstrumentalScore            0\n",
      "LivePerformanceLikelihood    0\n",
      "MoodScore                    0\n",
      "TrackDurationMs              0\n",
      "Energy                       0\n",
      "dtype: int64\n"
     ]
    }
   ],
   "source": [
    "# Check for missing values\n",
    "print(\"train data null data sum\")\n",
    "print(train.isnull().sum())\n",
    "print(\"test data null data sum\")\n",
    "print(test.isnull().sum())"
   ]
  },
  {
   "cell_type": "code",
   "execution_count": 9,
   "id": "27a1ca32",
   "metadata": {
    "execution": {
     "iopub.execute_input": "2025-09-21T02:46:45.825723Z",
     "iopub.status.busy": "2025-09-21T02:46:45.825320Z",
     "iopub.status.idle": "2025-09-21T02:46:45.836331Z",
     "shell.execute_reply": "2025-09-21T02:46:45.835145Z"
    },
    "papermill": {
     "duration": 0.01987,
     "end_time": "2025-09-21T02:46:45.838379",
     "exception": false,
     "start_time": "2025-09-21T02:46:45.818509",
     "status": "completed"
    },
    "tags": []
   },
   "outputs": [
    {
     "name": "stdout",
     "output_type": "stream",
     "text": [
      "   id  RhythmScore  AudioLoudness  VocalContent  AcousticQuality  \\\n",
      "0   0     0.603610      -7.636942      0.023500         0.000005   \n",
      "1   1     0.639451     -16.267598      0.071520         0.444929   \n",
      "2   2     0.514538     -15.953575      0.110715         0.173699   \n",
      "3   3     0.734463      -1.357000      0.052965         0.001651   \n",
      "4   4     0.532968     -13.056437      0.023500         0.068687   \n",
      "\n",
      "   InstrumentalScore  LivePerformanceLikelihood  MoodScore  TrackDurationMs  \\\n",
      "0           0.000001                   0.051385   0.409866      290715.6450   \n",
      "1           0.349414                   0.170522   0.651010      164519.5174   \n",
      "2           0.453814                   0.029576   0.423865      174495.5667   \n",
      "3           0.159717                   0.086366   0.278745      225567.4651   \n",
      "4           0.000001                   0.331345   0.477769      213960.6789   \n",
      "\n",
      "     Energy  BeatsPerMinute  \n",
      "0  0.826267       147.53020  \n",
      "1  0.145400       136.15963  \n",
      "2  0.624667        55.31989  \n",
      "3  0.487467       147.91212  \n",
      "4  0.947333        89.58511  \n"
     ]
    }
   ],
   "source": [
    "# check head data\n",
    "print(train.head())\n",
    "#print(test.head())"
   ]
  },
  {
   "cell_type": "markdown",
   "id": "df843b7f",
   "metadata": {
    "papermill": {
     "duration": 0.00596,
     "end_time": "2025-09-21T02:46:45.850389",
     "exception": false,
     "start_time": "2025-09-21T02:46:45.844429",
     "status": "completed"
    },
    "tags": []
   },
   "source": [
    "# Set our data proprocess function"
   ]
  },
  {
   "cell_type": "code",
   "execution_count": 10,
   "id": "6aa0054e",
   "metadata": {
    "execution": {
     "iopub.execute_input": "2025-09-21T02:46:45.863205Z",
     "iopub.status.busy": "2025-09-21T02:46:45.862910Z",
     "iopub.status.idle": "2025-09-21T02:46:45.871922Z",
     "shell.execute_reply": "2025-09-21T02:46:45.870999Z"
    },
    "papermill": {
     "duration": 0.017382,
     "end_time": "2025-09-21T02:46:45.873577",
     "exception": false,
     "start_time": "2025-09-21T02:46:45.856195",
     "status": "completed"
    },
    "tags": []
   },
   "outputs": [],
   "source": [
    "def new_features(df):\n",
    "    # Handle missing values\n",
    "    numeric_cols = df.select_dtypes(include=[np.number]).columns\n",
    "    df[numeric_cols] = df[numeric_cols].fillna(df[numeric_cols].median())\n",
    "    \n",
    "    # Polynomial features\n",
    "    poly = PolynomialFeatures(degree=2, interaction_only=True, include_bias=False)\n",
    "    poly_features = poly.fit_transform(df[['RhythmScore', 'AudioLoudness', 'Energy']])\n",
    "    poly_cols = [f'poly_{i}' for i in range(poly_features.shape[1])]\n",
    "    df[poly_cols] = poly_features\n",
    "    \n",
    "    # Log transformation for skewed features\n",
    "    for col in ['TrackDurationMs', 'AudioLoudness', 'VocalContent']:\n",
    "        if col in df.columns and skew(df[col].dropna()) > 0.5:\n",
    "            if df[col].min() < 0:\n",
    "                shift = abs(df[col].min()) + 1\n",
    "                df[f'log_{col}'] = np.log1p(df[col] + shift)\n",
    "            else:\n",
    "                df[f'log_{col}'] = np.log1p(df[col].clip(lower=0))\n",
    "    \n",
    "    # Binning features\n",
    "    df['Duration_Bin'] = pd.qcut(df['TrackDurationMs'], q=10, labels=False, duplicates='drop')\n",
    "    df['Energy_Bin'] = pd.qcut(df['Energy'], q=5, labels=False, duplicates='drop')\n",
    "    \n",
    "    return df"
   ]
  },
  {
   "cell_type": "code",
   "execution_count": 11,
   "id": "9a4aafe4",
   "metadata": {
    "execution": {
     "iopub.execute_input": "2025-09-21T02:46:45.886714Z",
     "iopub.status.busy": "2025-09-21T02:46:45.886313Z",
     "iopub.status.idle": "2025-09-21T02:46:46.569510Z",
     "shell.execute_reply": "2025-09-21T02:46:46.568670Z"
    },
    "papermill": {
     "duration": 0.691505,
     "end_time": "2025-09-21T02:46:46.571202",
     "exception": false,
     "start_time": "2025-09-21T02:46:45.879697",
     "status": "completed"
    },
    "tags": []
   },
   "outputs": [],
   "source": [
    "train_data = new_features(train)\n",
    "test_data = new_features(test)"
   ]
  },
  {
   "cell_type": "code",
   "execution_count": 12,
   "id": "2bee01b3",
   "metadata": {
    "execution": {
     "iopub.execute_input": "2025-09-21T02:46:46.584129Z",
     "iopub.status.busy": "2025-09-21T02:46:46.583800Z",
     "iopub.status.idle": "2025-09-21T02:46:46.693033Z",
     "shell.execute_reply": "2025-09-21T02:46:46.691869Z"
    },
    "papermill": {
     "duration": 0.117673,
     "end_time": "2025-09-21T02:46:46.694895",
     "exception": false,
     "start_time": "2025-09-21T02:46:46.577222",
     "status": "completed"
    },
    "tags": []
   },
   "outputs": [],
   "source": [
    "train_x = train_data.drop(['BeatsPerMinute' , 'id'] , axis=1)\n",
    "train_y = train_data['BeatsPerMinute']\n",
    "\n",
    "test_x = test_data.drop('id' , axis=1)"
   ]
  },
  {
   "cell_type": "markdown",
   "id": "8d12ea25",
   "metadata": {
    "papermill": {
     "duration": 0.005591,
     "end_time": "2025-09-21T02:46:46.706368",
     "exception": false,
     "start_time": "2025-09-21T02:46:46.700777",
     "status": "completed"
    },
    "tags": []
   },
   "source": [
    "# Split training data into train and valid"
   ]
  },
  {
   "cell_type": "code",
   "execution_count": 13,
   "id": "8b418b95",
   "metadata": {
    "execution": {
     "iopub.execute_input": "2025-09-21T02:46:46.720965Z",
     "iopub.status.busy": "2025-09-21T02:46:46.720579Z",
     "iopub.status.idle": "2025-09-21T02:46:46.940134Z",
     "shell.execute_reply": "2025-09-21T02:46:46.939208Z"
    },
    "papermill": {
     "duration": 0.22826,
     "end_time": "2025-09-21T02:46:46.941848",
     "exception": false,
     "start_time": "2025-09-21T02:46:46.713588",
     "status": "completed"
    },
    "tags": []
   },
   "outputs": [],
   "source": [
    "X_train_final, X_valid, y_train_fianl, y_valid = train_test_split(train_x, train_y, train_size=0.8, test_size=0.2,random_state=0)"
   ]
  },
  {
   "cell_type": "markdown",
   "id": "9b2fbdec",
   "metadata": {
    "papermill": {
     "duration": 0.005404,
     "end_time": "2025-09-21T02:46:46.953243",
     "exception": false,
     "start_time": "2025-09-21T02:46:46.947839",
     "status": "completed"
    },
    "tags": []
   },
   "source": [
    "# Use pipline get a better model performance"
   ]
  },
  {
   "cell_type": "code",
   "execution_count": 14,
   "id": "cebea946",
   "metadata": {
    "execution": {
     "iopub.execute_input": "2025-09-21T02:46:46.965848Z",
     "iopub.status.busy": "2025-09-21T02:46:46.965474Z",
     "iopub.status.idle": "2025-09-21T02:46:46.991135Z",
     "shell.execute_reply": "2025-09-21T02:46:46.989982Z"
    },
    "papermill": {
     "duration": 0.034049,
     "end_time": "2025-09-21T02:46:46.992936",
     "exception": false,
     "start_time": "2025-09-21T02:46:46.958887",
     "status": "completed"
    },
    "tags": []
   },
   "outputs": [],
   "source": [
    "from sklearn.pipeline import Pipeline\n",
    "from sklearn.impute import SimpleImputer\n",
    "from sklearn.model_selection import cross_val_score\n",
    "\n",
    "from xgboost import XGBRegressor"
   ]
  },
  {
   "cell_type": "code",
   "execution_count": 15,
   "id": "27eadbd6",
   "metadata": {
    "execution": {
     "iopub.execute_input": "2025-09-21T02:46:47.006036Z",
     "iopub.status.busy": "2025-09-21T02:46:47.005648Z",
     "iopub.status.idle": "2025-09-21T02:46:47.011583Z",
     "shell.execute_reply": "2025-09-21T02:46:47.010553Z"
    },
    "papermill": {
     "duration": 0.014293,
     "end_time": "2025-09-21T02:46:47.013231",
     "exception": false,
     "start_time": "2025-09-21T02:46:46.998938",
     "status": "completed"
    },
    "tags": []
   },
   "outputs": [],
   "source": [
    "def get_score(n_estimators):\n",
    "    \"\"\"Return the average MAE over 3 CV folds of XGBRegressor model.\n",
    "    \n",
    "    Keyword argument:\n",
    "    n_estimators -- the number of trees in the forest\n",
    "    \"\"\"\n",
    "    my_pipeline = Pipeline(steps=[\n",
    "        ('preprocessor', SimpleImputer()),\n",
    "        ('model', XGBRegressor(n_estimators=n_estimators, learning_rate=0.05) )\n",
    "    ])\n",
    "    scores = -1 * cross_val_score(my_pipeline, X_train_final, y_train_fianl,\n",
    "                              cv=3,\n",
    "                              scoring='neg_mean_absolute_error')\n",
    "    return scores.mean()"
   ]
  },
  {
   "cell_type": "code",
   "execution_count": 16,
   "id": "3b6d318b",
   "metadata": {
    "execution": {
     "iopub.execute_input": "2025-09-21T02:46:47.026438Z",
     "iopub.status.busy": "2025-09-21T02:46:47.025676Z",
     "iopub.status.idle": "2025-09-21T02:47:30.754645Z",
     "shell.execute_reply": "2025-09-21T02:47:30.753962Z"
    },
    "papermill": {
     "duration": 43.737294,
     "end_time": "2025-09-21T02:47:30.756413",
     "exception": false,
     "start_time": "2025-09-21T02:46:47.019119",
     "status": "completed"
    },
    "tags": []
   },
   "outputs": [],
   "source": [
    "results = {}\n",
    "for i in range(1,10):\n",
    "    results[10*i] = get_score(10*i)"
   ]
  },
  {
   "cell_type": "code",
   "execution_count": 17,
   "id": "fb227edd",
   "metadata": {
    "execution": {
     "iopub.execute_input": "2025-09-21T02:47:30.769425Z",
     "iopub.status.busy": "2025-09-21T02:47:30.769086Z",
     "iopub.status.idle": "2025-09-21T02:47:31.057374Z",
     "shell.execute_reply": "2025-09-21T02:47:31.056359Z"
    },
    "papermill": {
     "duration": 0.296949,
     "end_time": "2025-09-21T02:47:31.059495",
     "exception": false,
     "start_time": "2025-09-21T02:47:30.762546",
     "status": "completed"
    },
    "tags": []
   },
   "outputs": [
    {
     "data": {
      "image/png": "[encoded data removed]",
      "text/plain": [
       "<Figure size 640x480 with 1 Axes>"
      ]
     },
     "metadata": {},
     "output_type": "display_data"
    }
   ],
   "source": [
    "import matplotlib.pyplot as plt\n",
    "%matplotlib inline\n",
    "\n",
    "plt.plot(list(results.keys()), list(results.values()))\n",
    "plt.show()"
   ]
  },
  {
   "cell_type": "markdown",
   "id": "54fe7707",
   "metadata": {
    "papermill": {
     "duration": 0.009323,
     "end_time": "2025-09-21T02:47:31.077819",
     "exception": false,
     "start_time": "2025-09-21T02:47:31.068496",
     "status": "completed"
    },
    "tags": []
   },
   "source": [
    "With this result we can get that parameter \"n_estimators\" perform best at 20"
   ]
  },
  {
   "cell_type": "markdown",
   "id": "f65b7469",
   "metadata": {
    "papermill": {
     "duration": 0.007209,
     "end_time": "2025-09-21T02:47:31.095360",
     "exception": false,
     "start_time": "2025-09-21T02:47:31.088151",
     "status": "completed"
    },
    "tags": []
   },
   "source": [
    "# Run model with training data"
   ]
  },
  {
   "cell_type": "code",
   "execution_count": 18,
   "id": "7bacfad0",
   "metadata": {
    "execution": {
     "iopub.execute_input": "2025-09-21T02:47:31.109305Z",
     "iopub.status.busy": "2025-09-21T02:47:31.108996Z",
     "iopub.status.idle": "2025-09-21T02:47:32.415242Z",
     "shell.execute_reply": "2025-09-21T02:47:32.414509Z"
    },
    "papermill": {
     "duration": 1.315732,
     "end_time": "2025-09-21T02:47:32.417454",
     "exception": false,
     "start_time": "2025-09-21T02:47:31.101722",
     "status": "completed"
    },
    "tags": []
   },
   "outputs": [
    {
     "name": "stdout",
     "output_type": "stream",
     "text": [
      "Mean Absolute Error: 21.184346184696103\n"
     ]
    }
   ],
   "source": [
    "# Define the model\n",
    "my_model_1 = XGBRegressor(n_estimators=20, learning_rate=0.05) \n",
    "\n",
    "# Fit the model\n",
    "my_model_1.fit(X_train_final, y_train_fianl)\n",
    "\n",
    "# Get predictions\n",
    "predictions_1 = my_model_1.predict(X_valid)\n",
    "\n",
    "# Calculate MAE\n",
    "mae_1 =  mean_absolute_error(predictions_1, y_valid)\n",
    "\n",
    "# Uncomment to print MAE\n",
    "print(\"Mean Absolute Error:\" , mae_1)\n"
   ]
  },
  {
   "cell_type": "markdown",
   "id": "004682f1",
   "metadata": {
    "papermill": {
     "duration": 0.006253,
     "end_time": "2025-09-21T02:47:32.430749",
     "exception": false,
     "start_time": "2025-09-21T02:47:32.424496",
     "status": "completed"
    },
    "tags": []
   },
   "source": [
    "# Predict test data to generate final prediction"
   ]
  },
  {
   "cell_type": "code",
   "execution_count": 19,
   "id": "c8a7347a",
   "metadata": {
    "execution": {
     "iopub.execute_input": "2025-09-21T02:47:32.444558Z",
     "iopub.status.busy": "2025-09-21T02:47:32.444218Z",
     "iopub.status.idle": "2025-09-21T02:47:32.503335Z",
     "shell.execute_reply": "2025-09-21T02:47:32.502398Z"
    },
    "papermill": {
     "duration": 0.068252,
     "end_time": "2025-09-21T02:47:32.505260",
     "exception": false,
     "start_time": "2025-09-21T02:47:32.437008",
     "status": "completed"
    },
    "tags": []
   },
   "outputs": [],
   "source": [
    "final_preds = np.round(my_model_1.predict(test_x),3)"
   ]
  },
  {
   "cell_type": "code",
   "execution_count": 20,
   "id": "b7b3e9f9",
   "metadata": {
    "execution": {
     "iopub.execute_input": "2025-09-21T02:47:32.519688Z",
     "iopub.status.busy": "2025-09-21T02:47:32.519227Z",
     "iopub.status.idle": "2025-09-21T02:47:32.525198Z",
     "shell.execute_reply": "2025-09-21T02:47:32.524145Z"
    },
    "papermill": {
     "duration": 0.015004,
     "end_time": "2025-09-21T02:47:32.526885",
     "exception": false,
     "start_time": "2025-09-21T02:47:32.511881",
     "status": "completed"
    },
    "tags": []
   },
   "outputs": [
    {
     "name": "stdout",
     "output_type": "stream",
     "text": [
      "[119.196 117.966 118.963 ... 118.946 118.853 119.419]\n"
     ]
    }
   ],
   "source": [
    "print(final_preds)"
   ]
  },
  {
   "cell_type": "markdown",
   "id": "8aca6d1b",
   "metadata": {
    "papermill": {
     "duration": 0.006343,
     "end_time": "2025-09-21T02:47:32.539755",
     "exception": false,
     "start_time": "2025-09-21T02:47:32.533412",
     "status": "completed"
    },
    "tags": []
   },
   "source": [
    "# Preparing the Submission"
   ]
  },
  {
   "cell_type": "code",
   "execution_count": 21,
   "id": "e682dadb",
   "metadata": {
    "execution": {
     "iopub.execute_input": "2025-09-21T02:47:32.553486Z",
     "iopub.status.busy": "2025-09-21T02:47:32.553161Z",
     "iopub.status.idle": "2025-09-21T02:47:32.826715Z",
     "shell.execute_reply": "2025-09-21T02:47:32.825503Z"
    },
    "papermill": {
     "duration": 0.282398,
     "end_time": "2025-09-21T02:47:32.828414",
     "exception": false,
     "start_time": "2025-09-21T02:47:32.546016",
     "status": "completed"
    },
    "tags": []
   },
   "outputs": [
    {
     "data": {
      "text/html": [
       "<div>\n",
       "<style scoped>\n",
       "    .dataframe tbody tr th:only-of-type {\n",
       "        vertical-align: middle;\n",
       "    }\n",
       "\n",
       "    .dataframe tbody tr th {\n",
       "        vertical-align: top;\n",
       "    }\n",
       "\n",
       "    .dataframe thead th {\n",
       "        text-align: right;\n",
       "    }\n",
       "</style>\n",
       "<table border=\"1\" class=\"dataframe\">\n",
       "  <thead>\n",
       "    <tr style=\"text-align: right;\">\n",
       "      <th></th>\n",
       "      <th>id</th>\n",
       "      <th>BeatsPerMinute</th>\n",
       "    </tr>\n",
       "  </thead>\n",
       "  <tbody>\n",
       "    <tr>\n",
       "      <th>0</th>\n",
       "      <td>524164</td>\n",
       "      <td>119.195999</td>\n",
       "    </tr>\n",
       "    <tr>\n",
       "      <th>1</th>\n",
       "      <td>524165</td>\n",
       "      <td>117.966003</td>\n",
       "    </tr>\n",
       "    <tr>\n",
       "      <th>2</th>\n",
       "      <td>524166</td>\n",
       "      <td>118.962997</td>\n",
       "    </tr>\n",
       "    <tr>\n",
       "      <th>3</th>\n",
       "      <td>524167</td>\n",
       "      <td>119.000000</td>\n",
       "    </tr>\n",
       "    <tr>\n",
       "      <th>4</th>\n",
       "      <td>524168</td>\n",
       "      <td>119.361000</td>\n",
       "    </tr>\n",
       "  </tbody>\n",
       "</table>\n",
       "</div>"
      ],
      "text/plain": [
       "       id  BeatsPerMinute\n",
       "0  524164      119.195999\n",
       "1  524165      117.966003\n",
       "2  524166      118.962997\n",
       "3  524167      119.000000\n",
       "4  524168      119.361000"
      ]
     },
     "metadata": {},
     "output_type": "display_data"
    }
   ],
   "source": [
    "submission = pd.DataFrame({'id': test_data['id'], 'BeatsPerMinute': final_preds})\n",
    "submission.to_csv('submission.csv', index=False)\n",
    "display(submission.head())"
   ]
  }
 ],
 "metadata": {
  "kaggle": {
   "accelerator": "none",
   "dataSources": [
    {
     "databundleVersionId": 13345277,
     "sourceId": 91720,
     "sourceType": "competition"
    },
    {
     "datasetId": 8025996,
     "sourceId": 12699678,
     "sourceType": "datasetVersion"
    }
   ],
   "dockerImageVersionId": 31089,
   "isGpuEnabled": false,
   "isInternetEnabled": true,
   "language": "python",
   "sourceType": "notebook"
  },
  "kernelspec": {
   "display_name": "Python 3",
   "language": "python",
   "name": "python3"
  },
  "language_info": {
   "codemirror_mode": {
    "name": "ipython",
    "version": 3
   },
   "file_extension": ".py",
   "mimetype": "text/x-python",
   "name": "python",
   "nbconvert_exporter": "python",
   "pygments_lexer": "ipython3",
   "version": "3.11.13"
  },
  "papermill": {
   "default_parameters": {},
   "duration": 66.242367,
   "end_time": "2025-09-21T02:47:33.762466",
   "environment_variables": {},
   "exception": null,
   "input_path": "__notebook__.ipynb",
   "output_path": "__notebook__.ipynb",
   "parameters": {},
   "start_time": "2025-09-21T02:46:27.520099",
   "version": "2.6.0"
  }
 },
 "nbformat": 4,
 "nbformat_minor": 5
}
