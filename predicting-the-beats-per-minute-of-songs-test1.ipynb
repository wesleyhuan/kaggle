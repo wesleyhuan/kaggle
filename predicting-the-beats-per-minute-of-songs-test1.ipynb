{
 "cells": [
  {
   "cell_type": "code",
   "execution_count": 1,
   "id": "48e712d4",
   "metadata": {
    "_cell_guid": "b1076dfc-b9ad-4769-8c92-a6c4dae69d19",
    "_uuid": "8f2839f25d086af736a60e9eeb907d3b93b6e0e5",
    "execution": {
     "iopub.execute_input": "2025-09-14T16:20:01.743189Z",
     "iopub.status.busy": "2025-09-14T16:20:01.742783Z",
     "iopub.status.idle": "2025-09-14T16:20:06.606484Z",
     "shell.execute_reply": "2025-09-14T16:20:06.605590Z"
    },
    "papermill": {
     "duration": 4.871312,
     "end_time": "2025-09-14T16:20:06.608312",
     "exception": false,
     "start_time": "2025-09-14T16:20:01.737000",
     "status": "completed"
    },
    "tags": []
   },
   "outputs": [],
   "source": [
    "# Import standard data manipulation and visualization libraries\n",
    "import numpy as np\n",
    "import pandas as pd\n",
    "import matplotlib.pyplot as plt\n",
    "%matplotlib inline\n",
    "import seaborn as sns\n",
    "import optuna\n",
    "from scipy.stats import skew\n",
    "import warnings\n",
    "from sklearn.model_selection import KFold\n",
    "from sklearn.preprocessing import RobustScaler\n",
    "from sklearn.ensemble import RandomForestRegressor\n",
    "from sklearn.preprocessing import PolynomialFeatures\n",
    "from sklearn.metrics import mean_squared_error\n",
    "from sklearn.metrics import mean_absolute_error\n",
    "from sklearn.model_selection import train_test_split"
   ]
  },
  {
   "cell_type": "code",
   "execution_count": 2,
   "id": "7341c98a",
   "metadata": {
    "execution": {
     "iopub.execute_input": "2025-09-14T16:20:06.617380Z",
     "iopub.status.busy": "2025-09-14T16:20:06.616968Z",
     "iopub.status.idle": "2025-09-14T16:20:12.956702Z",
     "shell.execute_reply": "2025-09-14T16:20:12.955711Z"
    },
    "papermill": {
     "duration": 6.346086,
     "end_time": "2025-09-14T16:20:12.958452",
     "exception": false,
     "start_time": "2025-09-14T16:20:06.612366",
     "status": "completed"
    },
    "tags": []
   },
   "outputs": [],
   "source": [
    "# Import gradient boosting libraries\n",
    "import lightgbm as lgb\n",
    "import xgboost as xgb\n",
    "import catboost as catb\n",
    "from xgboost import XGBRegressor"
   ]
  },
  {
   "cell_type": "code",
   "execution_count": 3,
   "id": "24e1c9c4",
   "metadata": {
    "execution": {
     "iopub.execute_input": "2025-09-14T16:20:12.967243Z",
     "iopub.status.busy": "2025-09-14T16:20:12.966547Z",
     "iopub.status.idle": "2025-09-14T16:20:12.971476Z",
     "shell.execute_reply": "2025-09-14T16:20:12.970623Z"
    },
    "papermill": {
     "duration": 0.010917,
     "end_time": "2025-09-14T16:20:12.973127",
     "exception": false,
     "start_time": "2025-09-14T16:20:12.962210",
     "status": "completed"
    },
    "tags": []
   },
   "outputs": [],
   "source": [
    "# For reproducibility\n",
    "RANDOM_SEED = 42\n",
    "np.random.seed(RANDOM_SEED)"
   ]
  },
  {
   "cell_type": "code",
   "execution_count": 4,
   "id": "3d1efd1f",
   "metadata": {
    "execution": {
     "iopub.execute_input": "2025-09-14T16:20:12.981546Z",
     "iopub.status.busy": "2025-09-14T16:20:12.981247Z",
     "iopub.status.idle": "2025-09-14T16:20:12.986650Z",
     "shell.execute_reply": "2025-09-14T16:20:12.985713Z"
    },
    "papermill": {
     "duration": 0.011402,
     "end_time": "2025-09-14T16:20:12.988218",
     "exception": false,
     "start_time": "2025-09-14T16:20:12.976816",
     "status": "completed"
    },
    "tags": []
   },
   "outputs": [],
   "source": [
    "# Helper function for measuring model performance\n",
    "def rmse(y_true, y_pred):\n",
    "    \"\"\"Calculate Root Mean Squared Error\"\"\"\n",
    "    return np.sqrt(mean_squared_error(y_true, y_pred))"
   ]
  },
  {
   "cell_type": "code",
   "execution_count": 5,
   "id": "199d1a1c",
   "metadata": {
    "execution": {
     "iopub.execute_input": "2025-09-14T16:20:12.996415Z",
     "iopub.status.busy": "2025-09-14T16:20:12.996138Z",
     "iopub.status.idle": "2025-09-14T16:20:14.837851Z",
     "shell.execute_reply": "2025-09-14T16:20:14.836789Z"
    },
    "papermill": {
     "duration": 1.847822,
     "end_time": "2025-09-14T16:20:14.839687",
     "exception": false,
     "start_time": "2025-09-14T16:20:12.991865",
     "status": "completed"
    },
    "tags": []
   },
   "outputs": [],
   "source": [
    "# Load datasets\n",
    "train = pd.read_csv('/kaggle/input/playground-series-s5e9/train.csv')  \n",
    "test = pd.read_csv('/kaggle/input/playground-series-s5e9/test.csv')    \n",
    "sample_submission = pd.read_csv('/kaggle/input/playground-series-s5e9/sample_submission.csv')  "
   ]
  },
  {
   "cell_type": "code",
   "execution_count": 6,
   "id": "1efc9783",
   "metadata": {
    "execution": {
     "iopub.execute_input": "2025-09-14T16:20:14.848176Z",
     "iopub.status.busy": "2025-09-14T16:20:14.847885Z",
     "iopub.status.idle": "2025-09-14T16:20:14.853434Z",
     "shell.execute_reply": "2025-09-14T16:20:14.852267Z"
    },
    "papermill": {
     "duration": 0.011781,
     "end_time": "2025-09-14T16:20:14.855309",
     "exception": false,
     "start_time": "2025-09-14T16:20:14.843528",
     "status": "completed"
    },
    "tags": []
   },
   "outputs": [
    {
     "name": "stdout",
     "output_type": "stream",
     "text": [
      "Train data shape\n",
      "(524164, 11)\n",
      "Test data shape\n",
      "(174722, 10)\n",
      "sample_submission data shape\n",
      "(174722, 2)\n"
     ]
    }
   ],
   "source": [
    "# Display information about the datasets\n",
    "print(\"Train data shape\")\n",
    "print(train.shape)\n",
    "print(\"Test data shape\")\n",
    "print(test.shape)\n",
    "print(\"sample_submission data shape\")\n",
    "print(sample_submission.shape)"
   ]
  },
  {
   "cell_type": "code",
   "execution_count": 7,
   "id": "f0104bc4",
   "metadata": {
    "execution": {
     "iopub.execute_input": "2025-09-14T16:20:14.864357Z",
     "iopub.status.busy": "2025-09-14T16:20:14.863450Z",
     "iopub.status.idle": "2025-09-14T16:20:14.878626Z",
     "shell.execute_reply": "2025-09-14T16:20:14.877624Z"
    },
    "papermill": {
     "duration": 0.021171,
     "end_time": "2025-09-14T16:20:14.880246",
     "exception": false,
     "start_time": "2025-09-14T16:20:14.859075",
     "status": "completed"
    },
    "tags": []
   },
   "outputs": [
    {
     "name": "stdout",
     "output_type": "stream",
     "text": [
      "       id  BeatsPerMinute\n",
      "0  524164         119.035\n",
      "1  524165         119.035\n",
      "2  524166         119.035\n",
      "3  524167         119.035\n",
      "4  524168         119.035\n"
     ]
    }
   ],
   "source": [
    "# Check the submission format\n",
    "print(sample_submission.head())"
   ]
  },
  {
   "cell_type": "code",
   "execution_count": 8,
   "id": "df637826",
   "metadata": {
    "execution": {
     "iopub.execute_input": "2025-09-14T16:20:14.888857Z",
     "iopub.status.busy": "2025-09-14T16:20:14.888475Z",
     "iopub.status.idle": "2025-09-14T16:20:14.932017Z",
     "shell.execute_reply": "2025-09-14T16:20:14.930854Z"
    },
    "papermill": {
     "duration": 0.049774,
     "end_time": "2025-09-14T16:20:14.933807",
     "exception": false,
     "start_time": "2025-09-14T16:20:14.884033",
     "status": "completed"
    },
    "tags": []
   },
   "outputs": [
    {
     "name": "stdout",
     "output_type": "stream",
     "text": [
      "train data null data sum\n",
      "id                           0\n",
      "RhythmScore                  0\n",
      "AudioLoudness                0\n",
      "VocalContent                 0\n",
      "AcousticQuality              0\n",
      "InstrumentalScore            0\n",
      "LivePerformanceLikelihood    0\n",
      "MoodScore                    0\n",
      "TrackDurationMs              0\n",
      "Energy                       0\n",
      "BeatsPerMinute               0\n",
      "dtype: int64\n",
      "test data null data sum\n",
      "id                           0\n",
      "RhythmScore                  0\n",
      "AudioLoudness                0\n",
      "VocalContent                 0\n",
      "AcousticQuality              0\n",
      "InstrumentalScore            0\n",
      "LivePerformanceLikelihood    0\n",
      "MoodScore                    0\n",
      "TrackDurationMs              0\n",
      "Energy                       0\n",
      "dtype: int64\n"
     ]
    }
   ],
   "source": [
    "# Check for missing values\n",
    "print(\"train data null data sum\")\n",
    "print(train.isnull().sum())\n",
    "print(\"test data null data sum\")\n",
    "print(test.isnull().sum())"
   ]
  },
  {
   "cell_type": "code",
   "execution_count": 9,
   "id": "1180c623",
   "metadata": {
    "execution": {
     "iopub.execute_input": "2025-09-14T16:20:14.943245Z",
     "iopub.status.busy": "2025-09-14T16:20:14.942892Z",
     "iopub.status.idle": "2025-09-14T16:20:14.952744Z",
     "shell.execute_reply": "2025-09-14T16:20:14.951610Z"
    },
    "papermill": {
     "duration": 0.016329,
     "end_time": "2025-09-14T16:20:14.954357",
     "exception": false,
     "start_time": "2025-09-14T16:20:14.938028",
     "status": "completed"
    },
    "tags": []
   },
   "outputs": [
    {
     "name": "stdout",
     "output_type": "stream",
     "text": [
      "   id  RhythmScore  AudioLoudness  VocalContent  AcousticQuality  \\\n",
      "0   0     0.603610      -7.636942      0.023500         0.000005   \n",
      "1   1     0.639451     -16.267598      0.071520         0.444929   \n",
      "2   2     0.514538     -15.953575      0.110715         0.173699   \n",
      "3   3     0.734463      -1.357000      0.052965         0.001651   \n",
      "4   4     0.532968     -13.056437      0.023500         0.068687   \n",
      "\n",
      "   InstrumentalScore  LivePerformanceLikelihood  MoodScore  TrackDurationMs  \\\n",
      "0           0.000001                   0.051385   0.409866      290715.6450   \n",
      "1           0.349414                   0.170522   0.651010      164519.5174   \n",
      "2           0.453814                   0.029576   0.423865      174495.5667   \n",
      "3           0.159717                   0.086366   0.278745      225567.4651   \n",
      "4           0.000001                   0.331345   0.477769      213960.6789   \n",
      "\n",
      "     Energy  BeatsPerMinute  \n",
      "0  0.826267       147.53020  \n",
      "1  0.145400       136.15963  \n",
      "2  0.624667        55.31989  \n",
      "3  0.487467       147.91212  \n",
      "4  0.947333        89.58511  \n"
     ]
    }
   ],
   "source": [
    "# check head data\n",
    "print(train.head())\n",
    "#print(test.head())"
   ]
  },
  {
   "cell_type": "code",
   "execution_count": 10,
   "id": "ae72be5f",
   "metadata": {
    "execution": {
     "iopub.execute_input": "2025-09-14T16:20:14.962925Z",
     "iopub.status.busy": "2025-09-14T16:20:14.962571Z",
     "iopub.status.idle": "2025-09-14T16:20:14.971255Z",
     "shell.execute_reply": "2025-09-14T16:20:14.970381Z"
    },
    "papermill": {
     "duration": 0.014783,
     "end_time": "2025-09-14T16:20:14.972878",
     "exception": false,
     "start_time": "2025-09-14T16:20:14.958095",
     "status": "completed"
    },
    "tags": []
   },
   "outputs": [],
   "source": [
    "def new_features(df):\n",
    "    # Handle missing values\n",
    "    numeric_cols = df.select_dtypes(include=[np.number]).columns\n",
    "    df[numeric_cols] = df[numeric_cols].fillna(df[numeric_cols].median())\n",
    "    \n",
    "    # Interaction features\n",
    "    df['Rhythm_Audio_Interaction'] = df['RhythmScore'] * df['AudioLoudness']\n",
    "    df['Vocal_Acoustic_Ratio'] = df['VocalContent'] / (df['AcousticQuality'] + 1e-6)\n",
    "    df['Energy_Mood_Product'] = df['Energy'] * df['MoodScore']\n",
    "    df['Instrumental_Live_Interaction'] = df['InstrumentalScore'] * df['LivePerformanceLikelihood']\n",
    "    \n",
    "    # Polynomial features\n",
    "    poly = PolynomialFeatures(degree=2, interaction_only=True, include_bias=False)\n",
    "    poly_features = poly.fit_transform(df[['RhythmScore', 'AudioLoudness', 'Energy']])\n",
    "    poly_cols = [f'poly_{i}' for i in range(poly_features.shape[1])]\n",
    "    df[poly_cols] = poly_features\n",
    "    \n",
    "    # Log transformation for skewed features\n",
    "    for col in ['TrackDurationMs', 'AudioLoudness', 'VocalContent']:\n",
    "        if col in df.columns and skew(df[col].dropna()) > 0.5:\n",
    "            if df[col].min() < 0:\n",
    "                shift = abs(df[col].min()) + 1\n",
    "                df[f'log_{col}'] = np.log1p(df[col] + shift)\n",
    "            else:\n",
    "                df[f'log_{col}'] = np.log1p(df[col].clip(lower=0))\n",
    "    \n",
    "    # Binning features\n",
    "    df['Duration_Bin'] = pd.qcut(df['TrackDurationMs'], q=10, labels=False, duplicates='drop')\n",
    "    df['Energy_Bin'] = pd.qcut(df['Energy'], q=5, labels=False, duplicates='drop')\n",
    "    \n",
    "    return df"
   ]
  },
  {
   "cell_type": "code",
   "execution_count": 11,
   "id": "3d9d62fe",
   "metadata": {
    "execution": {
     "iopub.execute_input": "2025-09-14T16:20:14.982597Z",
     "iopub.status.busy": "2025-09-14T16:20:14.982305Z",
     "iopub.status.idle": "2025-09-14T16:20:15.779011Z",
     "shell.execute_reply": "2025-09-14T16:20:15.778211Z"
    },
    "papermill": {
     "duration": 0.80331,
     "end_time": "2025-09-14T16:20:15.780999",
     "exception": false,
     "start_time": "2025-09-14T16:20:14.977689",
     "status": "completed"
    },
    "tags": []
   },
   "outputs": [],
   "source": [
    "train_data = new_features(train)\n",
    "test_data = new_features(test)"
   ]
  },
  {
   "cell_type": "code",
   "execution_count": 12,
   "id": "e2a1cdc5",
   "metadata": {
    "execution": {
     "iopub.execute_input": "2025-09-14T16:20:15.791162Z",
     "iopub.status.busy": "2025-09-14T16:20:15.790842Z",
     "iopub.status.idle": "2025-09-14T16:20:15.945904Z",
     "shell.execute_reply": "2025-09-14T16:20:15.945064Z"
    },
    "papermill": {
     "duration": 0.162053,
     "end_time": "2025-09-14T16:20:15.947686",
     "exception": false,
     "start_time": "2025-09-14T16:20:15.785633",
     "status": "completed"
    },
    "tags": []
   },
   "outputs": [],
   "source": [
    "train_x = train_data.drop(['BeatsPerMinute' , 'id'] , axis=1)\n",
    "train_y = train_data['BeatsPerMinute']\n",
    "\n",
    "test_x = test_data.drop('id' , axis=1)"
   ]
  },
  {
   "cell_type": "code",
   "execution_count": 13,
   "id": "8b2c8697",
   "metadata": {
    "execution": {
     "iopub.execute_input": "2025-09-14T16:20:15.956596Z",
     "iopub.status.busy": "2025-09-14T16:20:15.956285Z",
     "iopub.status.idle": "2025-09-14T16:20:16.274454Z",
     "shell.execute_reply": "2025-09-14T16:20:16.273409Z"
    },
    "papermill": {
     "duration": 0.324748,
     "end_time": "2025-09-14T16:20:16.276314",
     "exception": false,
     "start_time": "2025-09-14T16:20:15.951566",
     "status": "completed"
    },
    "tags": []
   },
   "outputs": [],
   "source": [
    "X_train_final, X_valid, y_train_fianl, y_valid = train_test_split(train_x, train_y, train_size=0.8, test_size=0.2,random_state=0)"
   ]
  },
  {
   "cell_type": "code",
   "execution_count": 14,
   "id": "2ee2e4bb",
   "metadata": {
    "execution": {
     "iopub.execute_input": "2025-09-14T16:20:16.285350Z",
     "iopub.status.busy": "2025-09-14T16:20:16.285023Z",
     "iopub.status.idle": "2025-09-14T16:20:37.417872Z",
     "shell.execute_reply": "2025-09-14T16:20:37.417179Z"
    },
    "papermill": {
     "duration": 21.139407,
     "end_time": "2025-09-14T16:20:37.419755",
     "exception": false,
     "start_time": "2025-09-14T16:20:16.280348",
     "status": "completed"
    },
    "tags": []
   },
   "outputs": [
    {
     "name": "stdout",
     "output_type": "stream",
     "text": [
      "Mean Absolute Error: 21.245704128257373\n"
     ]
    }
   ],
   "source": [
    "# Define the model\n",
    "my_model_2 = XGBRegressor(n_estimators=1000, learning_rate=0.05) \n",
    "\n",
    "# Fit the model\n",
    "my_model_2.fit(X_train_final, y_train_fianl)\n",
    "\n",
    "# Get predictions\n",
    "predictions_2 = my_model_2.predict(X_valid)\n",
    "\n",
    "# Calculate MAE\n",
    "mae_2 =  mean_absolute_error(predictions_2, y_valid)\n",
    "\n",
    "# Uncomment to print MAE\n",
    "print(\"Mean Absolute Error:\" , mae_2)\n"
   ]
  },
  {
   "cell_type": "code",
   "execution_count": 15,
   "id": "0a748818",
   "metadata": {
    "execution": {
     "iopub.execute_input": "2025-09-14T16:20:37.431392Z",
     "iopub.status.busy": "2025-09-14T16:20:37.431101Z",
     "iopub.status.idle": "2025-09-14T16:20:39.246594Z",
     "shell.execute_reply": "2025-09-14T16:20:39.245904Z"
    },
    "papermill": {
     "duration": 1.823775,
     "end_time": "2025-09-14T16:20:39.248477",
     "exception": false,
     "start_time": "2025-09-14T16:20:37.424702",
     "status": "completed"
    },
    "tags": []
   },
   "outputs": [],
   "source": [
    "final_preds = my_model_2.predict(test_x)"
   ]
  },
  {
   "cell_type": "code",
   "execution_count": 16,
   "id": "332f0915",
   "metadata": {
    "execution": {
     "iopub.execute_input": "2025-09-14T16:20:39.264602Z",
     "iopub.status.busy": "2025-09-14T16:20:39.264270Z",
     "iopub.status.idle": "2025-09-14T16:20:39.269995Z",
     "shell.execute_reply": "2025-09-14T16:20:39.268900Z"
    },
    "papermill": {
     "duration": 0.01271,
     "end_time": "2025-09-14T16:20:39.271450",
     "exception": false,
     "start_time": "2025-09-14T16:20:39.258740",
     "status": "completed"
    },
    "tags": []
   },
   "outputs": [
    {
     "name": "stdout",
     "output_type": "stream",
     "text": [
      "[117.91926  114.358025 117.977    ... 120.71009  118.479    121.485756]\n"
     ]
    }
   ],
   "source": [
    "print(final_preds)"
   ]
  },
  {
   "cell_type": "markdown",
   "id": "f692efd0",
   "metadata": {
    "papermill": {
     "duration": 0.003501,
     "end_time": "2025-09-14T16:20:39.278946",
     "exception": false,
     "start_time": "2025-09-14T16:20:39.275445",
     "status": "completed"
    },
    "tags": []
   },
   "source": [
    "# Preparing the Submission"
   ]
  },
  {
   "cell_type": "code",
   "execution_count": 17,
   "id": "97ed5307",
   "metadata": {
    "execution": {
     "iopub.execute_input": "2025-09-14T16:20:39.287788Z",
     "iopub.status.busy": "2025-09-14T16:20:39.287452Z",
     "iopub.status.idle": "2025-09-14T16:20:39.583853Z",
     "shell.execute_reply": "2025-09-14T16:20:39.582952Z"
    },
    "papermill": {
     "duration": 0.302965,
     "end_time": "2025-09-14T16:20:39.585580",
     "exception": false,
     "start_time": "2025-09-14T16:20:39.282615",
     "status": "completed"
    },
    "tags": []
   },
   "outputs": [
    {
     "data": {
      "text/html": [
       "<div>\n",
       "<style scoped>\n",
       "    .dataframe tbody tr th:only-of-type {\n",
       "        vertical-align: middle;\n",
       "    }\n",
       "\n",
       "    .dataframe tbody tr th {\n",
       "        vertical-align: top;\n",
       "    }\n",
       "\n",
       "    .dataframe thead th {\n",
       "        text-align: right;\n",
       "    }\n",
       "</style>\n",
       "<table border=\"1\" class=\"dataframe\">\n",
       "  <thead>\n",
       "    <tr style=\"text-align: right;\">\n",
       "      <th></th>\n",
       "      <th>id</th>\n",
       "      <th>BeatsPerMinute</th>\n",
       "    </tr>\n",
       "  </thead>\n",
       "  <tbody>\n",
       "    <tr>\n",
       "      <th>0</th>\n",
       "      <td>524164</td>\n",
       "      <td>117.919258</td>\n",
       "    </tr>\n",
       "    <tr>\n",
       "      <th>1</th>\n",
       "      <td>524165</td>\n",
       "      <td>114.358025</td>\n",
       "    </tr>\n",
       "    <tr>\n",
       "      <th>2</th>\n",
       "      <td>524166</td>\n",
       "      <td>117.976997</td>\n",
       "    </tr>\n",
       "    <tr>\n",
       "      <th>3</th>\n",
       "      <td>524167</td>\n",
       "      <td>120.722626</td>\n",
       "    </tr>\n",
       "    <tr>\n",
       "      <th>4</th>\n",
       "      <td>524168</td>\n",
       "      <td>120.396812</td>\n",
       "    </tr>\n",
       "  </tbody>\n",
       "</table>\n",
       "</div>"
      ],
      "text/plain": [
       "       id  BeatsPerMinute\n",
       "0  524164      117.919258\n",
       "1  524165      114.358025\n",
       "2  524166      117.976997\n",
       "3  524167      120.722626\n",
       "4  524168      120.396812"
      ]
     },
     "metadata": {},
     "output_type": "display_data"
    }
   ],
   "source": [
    "submission = pd.DataFrame({'id': test_data['id'], 'BeatsPerMinute': final_preds})\n",
    "submission.to_csv('submission.csv', index=False)\n",
    "display(submission.head())"
   ]
  }
 ],
 "metadata": {
  "kaggle": {
   "accelerator": "none",
   "dataSources": [
    {
     "databundleVersionId": 13345277,
     "sourceId": 91720,
     "sourceType": "competition"
    },
    {
     "datasetId": 8025996,
     "sourceId": 12699678,
     "sourceType": "datasetVersion"
    }
   ],
   "dockerImageVersionId": 31089,
   "isGpuEnabled": false,
   "isInternetEnabled": false,
   "language": "python",
   "sourceType": "notebook"
  },
  "kernelspec": {
   "display_name": "Python 3",
   "language": "python",
   "name": "python3"
  },
  "language_info": {
   "codemirror_mode": {
    "name": "ipython",
    "version": 3
   },
   "file_extension": ".py",
   "mimetype": "text/x-python",
   "name": "python",
   "nbconvert_exporter": "python",
   "pygments_lexer": "ipython3",
   "version": "3.11.13"
  },
  "papermill": {
   "default_parameters": {},
   "duration": 44.494712,
   "end_time": "2025-09-14T16:20:40.711066",
   "environment_variables": {},
   "exception": null,
   "input_path": "__notebook__.ipynb",
   "output_path": "__notebook__.ipynb",
   "parameters": {},
   "start_time": "2025-09-14T16:19:56.216354",
   "version": "2.6.0"
  }
 },
 "nbformat": 4,
 "nbformat_minor": 5
}
